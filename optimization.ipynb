{
 "cells": [
  {
   "cell_type": "code",
   "execution_count": 1,
   "metadata": {},
   "outputs": [],
   "source": [
    "from ase import Atoms\n",
    "from ase.build import fcc100, add_vacuum\n",
    "from ase.calculators.emt import EMT\n",
    "from ase.constraints import FixAtoms\n",
    "from ase.data import atomic_numbers\n",
    "from ase.ga.startgenerator import StartGenerator\n",
    "from ase.ga.utilities import closest_distances_generator\n",
    "from ase.ga.utilities import get_all_atom_types\n",
    "from ase.io import read\n",
    "from ase.optimize.sciopt import SciPyFminCG\n",
    "from ase.visualize import view\n",
    "\n",
    "import numpy as np\n"
   ]
  },
  {
   "cell_type": "code",
   "execution_count": 2,
   "metadata": {},
   "outputs": [
    {
     "name": "stdout",
     "output_type": "stream",
     "text": [
      "17.309974003446687\n"
     ]
    }
   ],
   "source": [
    "surface_size = (6, 6, 3)\n",
    "slab = fcc100('Au', surface_size, periodic=True)\n",
    "add_vacuum(slab, 10)\n",
    "slab.set_constraint(FixAtoms(mask=len(slab) * [True]))\n",
    "\n",
    "# define the volume in which the adsorbed cluster is optimized\n",
    "# the volume is defined by a corner position (p0)\n",
    "# and three spanning vectors (v1, v2, v3)\n",
    "pos = slab.get_positions()\n",
    "cell = slab.get_cell()\n",
    "print(cell[0,0])\n",
    "p0 = np.array([cell[0, 0]/10*3, cell[1, 1]/10*3, max(pos[:, 2]) + 2.])\n",
    "v1 = cell[0, :] * 0.4\n",
    "v2 = cell[1, :] * 0.4\n",
    "v3 = cell[2, :] * .3\n",
    "\n",
    "# Define the composition of the atoms to optimize\n",
    "atom_numbers = 12 * [atomic_numbers['Pt']]\n",
    "\n",
    "# define the closest distance two atoms of a given species can be to each other\n",
    "unique_atom_types = get_all_atom_types(slab, atom_numbers)\n",
    "blmin = closest_distances_generator(atom_numbers=unique_atom_types,\n",
    "                                    ratio_of_covalent_radii=0.7)\n",
    "\n",
    "# create the starting population\n",
    "sg = StartGenerator(slab, atom_numbers, blmin,\n",
    "                    box_to_place_in=[p0, [v1, v2, v3]])\n",
    "# view(slab)\n"
   ]
  },
  {
   "cell_type": "code",
   "execution_count": 3,
   "metadata": {},
   "outputs": [
    {
     "name": "stdout",
     "output_type": "stream",
     "text": [
      "             Step     Time          Energy         fmax\n",
      "*Force-consistent energies used in optimization.\n",
      "SciPyFminCG:    0 00:14:36       57.022629*      28.4709\n",
      "SciPyFminCG:    1 00:14:36       42.863694*       5.4934\n",
      "SciPyFminCG:    2 00:14:36       40.860503*       3.6512\n",
      "SciPyFminCG:    3 00:14:36       39.963107*       3.0119\n",
      "SciPyFminCG:    4 00:14:36       39.497727*       2.2062\n",
      "SciPyFminCG:    5 00:14:36       39.252795*       1.9846\n",
      "SciPyFminCG:    6 00:14:37       39.047227*       2.0199\n",
      "SciPyFminCG:    7 00:14:37       38.701125*       1.8125\n",
      "SciPyFminCG:    8 00:14:37       38.481046*       0.9924\n",
      "SciPyFminCG:    9 00:14:37       38.338837*       1.3292\n",
      "SciPyFminCG:   10 00:14:37       38.121889*       1.2061\n",
      "SciPyFminCG:   11 00:14:37       38.042185*       1.1895\n",
      "SciPyFminCG:   12 00:14:37       37.890389*       0.9604\n",
      "SciPyFminCG:   13 00:14:37       37.749982*       1.1256\n",
      "SciPyFminCG:   14 00:14:37       37.628636*       1.5393\n",
      "SciPyFminCG:   15 00:14:37       37.159979*       1.5388\n",
      "SciPyFminCG:   16 00:14:38       36.826577*       1.7631\n",
      "SciPyFminCG:   17 00:14:38       36.551274*       1.3890\n",
      "SciPyFminCG:   18 00:14:38       36.228417*       0.8849\n",
      "SciPyFminCG:   19 00:14:38       36.023100*       0.7947\n",
      "SciPyFminCG:   20 00:14:38       35.714458*       1.3123\n",
      "SciPyFminCG:   21 00:14:38       35.643785*       1.1209\n",
      "SciPyFminCG:   22 00:14:38       35.319430*       1.6325\n",
      "SciPyFminCG:   23 00:14:38       35.036704*       0.7865\n",
      "SciPyFminCG:   24 00:14:38       34.830035*       0.6916\n",
      "SciPyFminCG:   25 00:14:38       34.721366*       0.5723\n",
      "SciPyFminCG:   26 00:14:38       34.530080*       1.0513\n",
      "SciPyFminCG:   27 00:14:39       34.343521*       1.0807\n",
      "SciPyFminCG:   28 00:14:39       34.189598*       0.6793\n",
      "SciPyFminCG:   29 00:14:39       34.058584*       0.5809\n",
      "SciPyFminCG:   30 00:14:39       33.943062*       0.8203\n",
      "SciPyFminCG:   31 00:14:39       33.889028*       0.5197\n",
      "SciPyFminCG:   32 00:14:39       33.786967*       0.6679\n",
      "SciPyFminCG:   33 00:14:39       33.715705*       0.5973\n",
      "SciPyFminCG:   34 00:14:39       33.621254*       0.4736\n",
      "SciPyFminCG:   35 00:14:39       33.566702*       0.4237\n",
      "SciPyFminCG:   36 00:14:39       33.465932*       0.5445\n",
      "SciPyFminCG:   37 00:14:39       33.393017*       0.7139\n",
      "SciPyFminCG:   38 00:14:40       33.300938*       0.4548\n",
      "SciPyFminCG:   39 00:14:40       33.239647*       0.3809\n",
      "SciPyFminCG:   40 00:14:40       33.124714*       0.6473\n",
      "SciPyFminCG:   41 00:14:40       33.064367*       0.9469\n",
      "SciPyFminCG:   42 00:14:40       32.999291*       0.5096\n",
      "SciPyFminCG:   43 00:14:40       32.937580*       0.4286\n",
      "SciPyFminCG:   44 00:14:40       32.865990*       0.6666\n",
      "SciPyFminCG:   45 00:14:40       32.803835*       0.5155\n",
      "SciPyFminCG:   46 00:14:40       32.737986*       0.4940\n",
      "SciPyFminCG:   47 00:14:40       32.650588*       0.7822\n",
      "SciPyFminCG:   48 00:14:41       32.496167*       0.9697\n",
      "SciPyFminCG:   49 00:14:41       32.344588*       1.0180\n",
      "SciPyFminCG:   50 00:14:41       32.239229*       0.7165\n",
      "SciPyFminCG:   51 00:14:41       32.154489*       0.4182\n",
      "SciPyFminCG:   52 00:14:41       32.116265*       0.2623\n",
      "SciPyFminCG:   53 00:14:41       32.088191*       0.3564\n",
      "SciPyFminCG:   54 00:14:41       32.065228*       0.2807\n",
      "SciPyFminCG:   55 00:14:41       32.046354*       0.2287\n"
     ]
    }
   ],
   "source": [
    "atoms = sg.get_new_candidate()\n",
    "atoms.set_calculator(EMT())\n",
    "traj_name = 'images/pt12_au100_emt.traj'\n",
    "dyn = SciPyFminCG(atoms, logfile='-', trajectory=traj_name)\n",
    "dyn.run(fmax=0.25)"
   ]
  },
  {
   "cell_type": "code",
   "execution_count": 4,
   "metadata": {},
   "outputs": [
    {
     "data": {
      "application/vnd.jupyter.widget-view+json": {
       "model_id": "40ccef30405b4833801880cfa1110c4c",
       "version_major": 2,
       "version_minor": 0
      },
      "text/plain": []
     },
     "metadata": {},
     "output_type": "display_data"
    },
    {
     "data": {
      "application/vnd.jupyter.widget-view+json": {
       "model_id": "740ef53c757544c99d0f00e74a1faf8d",
       "version_major": 2,
       "version_minor": 0
      },
      "text/plain": [
       "HBox(children=(NGLWidget(max_frame=55), VBox(children=(Dropdown(description='Show', options=('All', 'Pt', 'Au'…"
      ]
     },
     "execution_count": 4,
     "metadata": {},
     "output_type": "execute_result"
    }
   ],
   "source": [
    "traj = read(traj_name, index=':')\n",
    "view(traj, viewer='ngl')"
   ]
  }
 ],
 "metadata": {
  "interpreter": {
   "hash": "db24e184beeae8636a943c8905ed200c6dc74a56ebf2dcc495f9ae9e7bc68aa6"
  },
  "kernelspec": {
   "display_name": "Python 3.8.11 64-bit ('ase-viz': conda)",
   "name": "python3"
  },
  "language_info": {
   "codemirror_mode": {
    "name": "ipython",
    "version": 3
   },
   "file_extension": ".py",
   "mimetype": "text/x-python",
   "name": "python",
   "nbconvert_exporter": "python",
   "pygments_lexer": "ipython3",
   "version": "3.11.5"
  }
 },
 "nbformat": 4,
 "nbformat_minor": 2
}
