{
 "cells": [
  {
   "cell_type": "code",
   "execution_count": 7,
   "source": [
    "from ase import Atoms\r\n",
    "from ase.build import fcc100, add_vacuum\r\n",
    "from ase.calculators.emt import EMT\r\n",
    "from ase.constraints import FixAtoms\r\n",
    "from ase.data import atomic_numbers\r\n",
    "from ase.ga.startgenerator import StartGenerator\r\n",
    "from ase.ga.utilities import closest_distances_generator\r\n",
    "from ase.ga.utilities import get_all_atom_types\r\n",
    "from ase.io import read\r\n",
    "from ase.optimize.sciopt import SciPyFminCG\r\n",
    "from ase.visualize import view\r\n",
    "\r\n",
    "import numpy as np\r\n"
   ],
   "outputs": [],
   "metadata": {}
  },
  {
   "cell_type": "code",
   "execution_count": 8,
   "source": [
    "surface_size = (6, 6, 3)\r\n",
    "slab = fcc100('Au', surface_size, periodic=True)\r\n",
    "add_vacuum(slab, 10)\r\n",
    "slab.set_constraint(FixAtoms(mask=len(slab) * [True]))\r\n",
    "\r\n",
    "# define the volume in which the adsorbed cluster is optimized\r\n",
    "# the volume is defined by a corner position (p0)\r\n",
    "# and three spanning vectors (v1, v2, v3)\r\n",
    "pos = slab.get_positions()\r\n",
    "cell = slab.get_cell()\r\n",
    "print(cell[0,0])\r\n",
    "p0 = np.array([cell[0, 0]/10*3, cell[1, 1]/10*3, max(pos[:, 2]) + 2.])\r\n",
    "v1 = cell[0, :] * 0.4\r\n",
    "v2 = cell[1, :] * 0.4\r\n",
    "v3 = cell[2, :] * .3\r\n",
    "\r\n",
    "# Define the composition of the atoms to optimize\r\n",
    "atom_numbers = 12 * [atomic_numbers['Pt']]\r\n",
    "\r\n",
    "# define the closest distance two atoms of a given species can be to each other\r\n",
    "unique_atom_types = get_all_atom_types(slab, atom_numbers)\r\n",
    "blmin = closest_distances_generator(atom_numbers=unique_atom_types,\r\n",
    "                                    ratio_of_covalent_radii=0.7)\r\n",
    "\r\n",
    "# create the starting population\r\n",
    "sg = StartGenerator(slab, atom_numbers, blmin,\r\n",
    "                    box_to_place_in=[p0, [v1, v2, v3]])\r\n",
    "# view(slab)\r\n"
   ],
   "outputs": [
    {
     "output_type": "stream",
     "name": "stdout",
     "text": [
      "17.309974003446687\n"
     ]
    }
   ],
   "metadata": {}
  },
  {
   "cell_type": "code",
   "execution_count": 9,
   "source": [
    "atoms = sg.get_new_candidate()\r\n",
    "atoms.set_calculator(EMT())\r\n",
    "traj_name = 'images/pt12_au100_emt.traj'\r\n",
    "dyn = SciPyFminCG(atoms, logfile='-', trajectory=traj_name)\r\n",
    "dyn.run(fmax=0.25)\r\n",
    "\r\n",
    "traj = read(traj_name, index=':')\r\n",
    "view(traj, viewer='ngl')\r\n"
   ],
   "outputs": [
    {
     "output_type": "stream",
     "name": "stdout",
     "text": [
      "             Step     Time          Energy         fmax\n",
      "*Force-consistent energies used in optimization.\n",
      "SciPyFminCG:    0 23:57:51       49.363261*      19.7593\n",
      "SciPyFminCG:    1 23:57:51       41.496118*       5.4398\n",
      "SciPyFminCG:    2 23:57:51       40.374631*       3.9238\n",
      "SciPyFminCG:    3 23:57:51       39.885964*       2.6866\n",
      "SciPyFminCG:    4 23:57:51       39.254358*       2.1988\n",
      "SciPyFminCG:    5 23:57:52       38.988242*       2.5141\n",
      "SciPyFminCG:    6 23:57:52       38.705617*       2.0617\n",
      "SciPyFminCG:    7 23:57:52       38.120604*       2.7156\n",
      "SciPyFminCG:    8 23:57:53       37.715791*       1.7624\n",
      "SciPyFminCG:    9 23:57:53       37.383131*       1.2369\n",
      "SciPyFminCG:   10 23:57:53       37.173343*       1.1484\n",
      "SciPyFminCG:   11 23:57:53       36.683269*       1.6972\n",
      "SciPyFminCG:   12 23:57:54       36.538500*       1.0284\n",
      "SciPyFminCG:   13 23:57:54       36.369510*       0.7592\n",
      "SciPyFminCG:   14 23:57:54       36.258603*       0.9085\n",
      "SciPyFminCG:   15 23:57:54       36.184739*       0.5700\n",
      "SciPyFminCG:   16 23:57:55       36.129813*       0.4301\n",
      "SciPyFminCG:   17 23:57:55       36.070668*       0.4104\n",
      "SciPyFminCG:   18 23:57:55       35.972948*       0.7948\n",
      "SciPyFminCG:   19 23:57:55       35.866183*       0.9046\n",
      "SciPyFminCG:   20 23:57:56       35.702326*       0.8145\n",
      "SciPyFminCG:   21 23:57:56       35.528656*       0.8233\n",
      "SciPyFminCG:   22 23:57:56       35.411045*       0.6882\n",
      "SciPyFminCG:   23 23:57:56       35.331501*       0.9643\n",
      "SciPyFminCG:   24 23:57:57       35.236376*       0.6639\n",
      "SciPyFminCG:   25 23:57:57       35.133603*       0.6110\n",
      "SciPyFminCG:   26 23:57:57       35.061646*       0.6408\n",
      "SciPyFminCG:   27 23:57:57       34.985664*       0.6666\n",
      "SciPyFminCG:   28 23:57:57       34.905359*       0.7451\n",
      "SciPyFminCG:   29 23:57:58       34.808321*       0.6182\n",
      "SciPyFminCG:   30 23:57:58       34.672288*       0.5542\n",
      "SciPyFminCG:   31 23:57:58       34.485853*       1.5955\n",
      "SciPyFminCG:   32 23:57:58       34.471755*       1.4193\n",
      "SciPyFminCG:   33 23:57:59       34.373368*       0.6058\n",
      "SciPyFminCG:   34 23:57:59       34.317107*       0.4146\n",
      "SciPyFminCG:   35 23:57:59       34.271256*       0.4417\n",
      "SciPyFminCG:   36 23:57:59       34.229775*       0.4591\n",
      "SciPyFminCG:   37 23:58:00       34.164484*       0.6240\n",
      "SciPyFminCG:   38 23:58:00       34.085853*       0.6686\n",
      "SciPyFminCG:   39 23:58:00       34.024462*       0.4857\n",
      "SciPyFminCG:   40 23:58:00       33.949385*       0.6257\n",
      "SciPyFminCG:   41 23:58:01       33.877483*       0.6310\n",
      "SciPyFminCG:   42 23:58:01       33.779381*       0.4717\n",
      "SciPyFminCG:   43 23:58:01       33.715521*       0.2963\n",
      "SciPyFminCG:   44 23:58:01       33.653250*       0.8149\n",
      "SciPyFminCG:   45 23:58:02       33.587180*       0.6898\n",
      "SciPyFminCG:   46 23:58:02       33.517647*       0.6966\n",
      "SciPyFminCG:   47 23:58:02       33.454393*       0.5535\n",
      "SciPyFminCG:   48 23:58:02       33.394562*       0.3361\n",
      "SciPyFminCG:   49 23:58:03       33.367477*       0.3258\n",
      "SciPyFminCG:   50 23:58:03       33.331443*       0.4284\n",
      "SciPyFminCG:   51 23:58:03       33.285055*       0.4872\n",
      "SciPyFminCG:   52 23:58:03       33.201715*       0.9003\n",
      "SciPyFminCG:   53 23:58:04       33.079338*       0.7272\n",
      "SciPyFminCG:   54 23:58:04       32.944617*       0.6688\n",
      "SciPyFminCG:   55 23:58:04       32.872099*       0.5043\n",
      "SciPyFminCG:   56 23:58:04       32.816176*       0.3432\n",
      "SciPyFminCG:   57 23:58:05       32.789046*       0.2909\n",
      "SciPyFminCG:   58 23:58:05       32.733199*       0.8181\n",
      "SciPyFminCG:   59 23:58:05       32.687842*       0.5533\n",
      "SciPyFminCG:   60 23:58:05       32.639984*       0.5137\n",
      "SciPyFminCG:   61 23:58:06       32.597832*       0.3514\n",
      "SciPyFminCG:   62 23:58:06       32.571807*       0.3269\n",
      "SciPyFminCG:   63 23:58:06       32.532938*       0.4858\n",
      "SciPyFminCG:   64 23:58:07       32.431933*       1.3649\n",
      "SciPyFminCG:   65 23:58:07       32.352042*       0.8979\n",
      "SciPyFminCG:   66 23:58:07       32.238333*       0.5518\n",
      "SciPyFminCG:   67 23:58:07       32.201219*       0.3438\n",
      "SciPyFminCG:   68 23:58:08       32.176193*       0.2287\n"
     ]
    },
    {
     "output_type": "display_data",
     "data": {
      "application/vnd.jupyter.widget-view+json": {
       "version_major": 2,
       "version_minor": 0,
       "model_id": "f24185533a8a4a05ba5a6da7d0f20186"
      },
      "text/plain": [
       "HBox(children=(NGLWidget(max_frame=68), VBox(children=(Dropdown(description='Show', options=('All', 'Pt', 'Au'…"
      ]
     },
     "metadata": {}
    }
   ],
   "metadata": {}
  }
 ],
 "metadata": {
  "interpreter": {
   "hash": "db24e184beeae8636a943c8905ed200c6dc74a56ebf2dcc495f9ae9e7bc68aa6"
  },
  "kernelspec": {
   "name": "python3",
   "display_name": "Python 3.8.11 64-bit ('ase-viz': conda)"
  },
  "language_info": {
   "codemirror_mode": {
    "name": "ipython",
    "version": 3
   },
   "file_extension": ".py",
   "mimetype": "text/x-python",
   "name": "python",
   "nbconvert_exporter": "python",
   "pygments_lexer": "ipython3",
   "version": "3.8.11"
  }
 },
 "nbformat": 4,
 "nbformat_minor": 2
}